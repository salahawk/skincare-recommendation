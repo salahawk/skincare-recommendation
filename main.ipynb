{
 "cells": [
  {
   "cell_type": "code",
   "execution_count": 2,
   "metadata": {},
   "outputs": [],
   "source": [
    "import pandas as pd\n",
    "from sklearn.feature_extraction.text import TfidfVectorizer\n",
    "from sklearn.metrics.pairwise import cosine_similarity\n",
    "import streamlit as st"
   ]
  },
  {
   "cell_type": "code",
   "execution_count": null,
   "metadata": {},
   "outputs": [],
   "source": [
    "# sample dataset => https://www.kaggle.com/datasets/kingabzpro/cosmetics-datasets\n",
    "file_path = '/Users/salahawk/Downloads/skincare 1/cosmetics.csv'\n",
    "df = pd.read_csv(file_path)"
   ]
  },
  {
   "cell_type": "code",
   "execution_count": null,
   "metadata": {},
   "outputs": [],
   "source": [
    "df['features'] = df['Ingredients']"
   ]
  },
  {
   "cell_type": "code",
   "execution_count": null,
   "metadata": {},
   "outputs": [],
   "source": [
    "tfidf = TfidfVectorizer(stop_words='english')\n",
    "tfidf_matrix = tfidf.fit_transform(df['features'])"
   ]
  },
  {
   "cell_type": "code",
   "execution_count": null,
   "metadata": {},
   "outputs": [],
   "source": [
    "cosine_sim = cosine_similarity(tfidf_matrix, tfidf_matrix)"
   ]
  },
  {
   "cell_type": "code",
   "execution_count": null,
   "metadata": {},
   "outputs": [],
   "source": [
    "indices = pd.Series(df.index, index=df['Name']).drop_duplicates()"
   ]
  },
  {
   "cell_type": "code",
   "execution_count": null,
   "metadata": {},
   "outputs": [],
   "source": [
    "def recommend_cosmetics(skin_type, label_filter, rank_filter, brand_filter, price_range, ingredient_input=None, num_recommendations=10):\n",
    "    recommended_products = df[df[skin_type] == 1]\n",
    "    \n",
    "    if label_filter != 'All':\n",
    "        recommended_products = recommended_products[recommended_products['Label'] == label_filter]\n",
    "    \n",
    "    recommended_products = recommended_products[\n",
    "        (recommended_products['Rank'] >= rank_filter[0]) & \n",
    "        (recommended_products['Rank'] <= rank_filter[1])\n",
    "    ]\n",
    "    \n",
    "    if brand_filter != 'All':\n",
    "        recommended_products = recommended_products[recommended_products['Brand'] == brand_filter]\n",
    "    \n",
    "    recommended_products = recommended_products[\n",
    "        (recommended_products['Price'] >= price_range[0]) & \n",
    "        (recommended_products['Price'] <= price_range[1])\n",
    "    ]\n",
    "\n",
    "    if ingredient_input:\n",
    "        vectorizer = TfidfVectorizer(stop_words='english')\n",
    "        tfidf_matrix = vectorizer.fit_transform(df['Ingredients'])\n",
    "        input_vec = vectorizer.transform([ingredient_input])\n",
    "        cosine_similarities = cosine_similarity(input_vec, tfidf_matrix).flatten()\n",
    "        recommended_indices = cosine_similarities.argsort()[-num_recommendations:][::-1]\n",
    "        ingredient_recommendations = df.iloc[recommended_indices]\n",
    "        recommended_products = recommended_products[recommended_products.index.isin(ingredient_recommendations.index)]\n",
    "    \n",
    "    return recommended_products.sort_values(by=['Rank']).head(num_recommendations)"
   ]
  },
  {
   "cell_type": "code",
   "execution_count": null,
   "metadata": {},
   "outputs": [],
   "source": [
    "def main():\n",
    "    st.title('Skincare Products Recommendation System')\n",
    "\n",
    "    col1, col2, col3 = st.columns(3)\n",
    "\n",
    "    with col1:\n",
    "        skin_type = st.selectbox('Select your skin type:', ('Combination', 'Dry', 'Normal', 'Oily', 'Sensitive'))\n",
    "\n",
    "    unique_labels = df['Label'].unique().tolist()\n",
    "    unique_labels.insert(0, 'All')\n",
    "\n",
    "    with col2:\n",
    "        label_filter = st.selectbox('Filter by label (optional):', unique_labels)\n",
    "\n",
    "    with col1:\n",
    "        rank_filter = st.slider('Select rank range:', min_value=int(df['Rank'].min()), max_value=int(df['Rank'].max()), value=(int(df['Rank'].min()), int(df['Rank'].max())))\n",
    "\n",
    "    unique_brands = df['Brand'].unique().tolist()\n",
    "    unique_brands.insert(0, 'All')\n",
    "\n",
    "    with col2:\n",
    "        brand_filter = st.selectbox('Filter by brand (optional):', unique_brands)\n",
    "\n",
    "    with col3:\n",
    "        price_range = st.slider('Select price range:', min_value=float(df['Price'].min()), max_value=float(df['Price'].max()), value=(float(df['Price'].min()), float(df['Price'].max())))\n",
    "\n",
    "    st.write(\"Or enter ingredients to get product recommendations (optional):\") \n",
    "    ingredient_input = st.text_area(\"Ingredients (comma-separated)\", \"\")\n",
    "\n",
    "    if st.button('Find similar products!'):\n",
    "        top_recommended_products = recommend_cosmetics(skin_type, label_filter, rank_filter, brand_filter, price_range, ingredient_input)\n",
    "        \n",
    "        st.subheader('Recommended Products')\n",
    "        st.write(top_recommended_products[['Label', 'Brand', 'Name', 'Ingredients', 'Rank']])"
   ]
  },
  {
   "cell_type": "code",
   "execution_count": null,
   "metadata": {},
   "outputs": [],
   "source": [
    "main()"
   ]
  }
 ],
 "metadata": {
  "kernelspec": {
   "display_name": ".venv",
   "language": "python",
   "name": "python3"
  },
  "language_info": {
   "codemirror_mode": {
    "name": "ipython",
    "version": 3
   },
   "file_extension": ".py",
   "mimetype": "text/x-python",
   "name": "python",
   "nbconvert_exporter": "python",
   "pygments_lexer": "ipython3",
   "version": "3.13.2"
  }
 },
 "nbformat": 4,
 "nbformat_minor": 2
}
